{
 "cells": [
  {
   "cell_type": "code",
   "execution_count": 6,
   "id": "686cffc2",
   "metadata": {},
   "outputs": [],
   "source": [
    "class Employee:\n",
    "    no_of_workinghours = 40\n",
    "    name = 'Ravi'\n",
    "    designation = 'Sales Person'\n",
    "    sales_made_this_week = 6\n",
    "    def has_achieved_target(self):\n",
    "        if self.sales_made_this_week >=5:\n",
    "            print('Accomplished')\n",
    "        else:\n",
    "            print(\"Didn't Accomplish\")\n",
    "                "
   ]
  },
  {
   "cell_type": "code",
   "execution_count": 7,
   "id": "605982d2",
   "metadata": {},
   "outputs": [],
   "source": [
    "emp1 = Employee()"
   ]
  },
  {
   "cell_type": "code",
   "execution_count": 8,
   "id": "b245015b",
   "metadata": {},
   "outputs": [
    {
     "data": {
      "text/plain": [
       "40"
      ]
     },
     "execution_count": 8,
     "metadata": {},
     "output_type": "execute_result"
    }
   ],
   "source": [
    "emp1.no_of_workinghours"
   ]
  },
  {
   "cell_type": "code",
   "execution_count": 9,
   "id": "44a86527",
   "metadata": {},
   "outputs": [
    {
     "data": {
      "text/plain": [
       "40"
      ]
     },
     "execution_count": 9,
     "metadata": {},
     "output_type": "execute_result"
    }
   ],
   "source": [
    "emp2 = Employee()\n",
    "emp2.no_of_workinghours"
   ]
  },
  {
   "cell_type": "code",
   "execution_count": 12,
   "id": "75775412",
   "metadata": {},
   "outputs": [],
   "source": [
    "Employee.no_of_workinghours = 45"
   ]
  },
  {
   "cell_type": "code",
   "execution_count": 13,
   "id": "996579cc",
   "metadata": {},
   "outputs": [
    {
     "data": {
      "text/plain": [
       "(45, 45)"
      ]
     },
     "execution_count": 13,
     "metadata": {},
     "output_type": "execute_result"
    }
   ],
   "source": [
    "emp1.no_of_workinghours, emp2.no_of_workinghours"
   ]
  },
  {
   "cell_type": "code",
   "execution_count": null,
   "id": "1ddda288",
   "metadata": {},
   "outputs": [],
   "source": []
  }
 ],
 "metadata": {
  "kernelspec": {
   "display_name": "Python 3 (ipykernel)",
   "language": "python",
   "name": "python3"
  },
  "language_info": {
   "codemirror_mode": {
    "name": "ipython",
    "version": 3
   },
   "file_extension": ".py",
   "mimetype": "text/x-python",
   "name": "python",
   "nbconvert_exporter": "python",
   "pygments_lexer": "ipython3",
   "version": "3.9.13"
  }
 },
 "nbformat": 4,
 "nbformat_minor": 5
}
