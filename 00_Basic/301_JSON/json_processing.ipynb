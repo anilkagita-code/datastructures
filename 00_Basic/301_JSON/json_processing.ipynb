{
 "cells": [
  {
   "cell_type": "markdown",
   "id": "63457cd8",
   "metadata": {},
   "source": [
    "<h1>JSON Processing Examples</h1>"
   ]
  },
  {
   "cell_type": "markdown",
   "id": "60922360",
   "metadata": {},
   "source": [
    "<h4>Tools for Validating JSON</h4>\n",
    "<para>\n",
    "<li>https://jsonformatter.org - Advanced</li>\n",
    "<li>https://jsonchecker.com - Simple</li>\n",
    "</para>"
   ]
  },
  {
   "cell_type": "code",
   "execution_count": 6,
   "id": "47163d88",
   "metadata": {},
   "outputs": [],
   "source": [
    "import json\n",
    "import pprint"
   ]
  },
  {
   "cell_type": "code",
   "execution_count": 13,
   "id": "1c00e47f",
   "metadata": {},
   "outputs": [
    {
     "name": "stdout",
     "output_type": "stream",
     "text": [
      "{'age': 30,\n",
      " 'city': 'New York',\n",
      " 'grades': {'English': 88, 'Math': 85, 'Science': 90},\n",
      " 'is_student': False,\n",
      " 'name': 'Anil',\n",
      " 'subjects': ['Math', 'Science', 'English']}\n"
     ]
    }
   ],
   "source": [
    "# sample json object\n",
    "json_obj = {\n",
    "    \"name\": \"Anil\",\n",
    "    \"age\": 30,  \n",
    "    \"city\": \"New York\",\n",
    "    \"is_student\": False,    \n",
    "    \"subjects\": [\"Math\", \"Science\", \"English\"],\n",
    "    \"grades\": {\n",
    "        \"Math\": 85,\n",
    "        \"Science\": 90,\n",
    "        \"English\": 88\n",
    "    },\n",
    "}\n",
    "pprint.pprint(json_obj)"
   ]
  },
  {
   "cell_type": "code",
   "execution_count": null,
   "id": "eb1773ca",
   "metadata": {},
   "outputs": [],
   "source": [
    "# pretty print json object\n"
   ]
  }
 ],
 "metadata": {
  "kernelspec": {
   "display_name": "base",
   "language": "python",
   "name": "python3"
  },
  "language_info": {
   "codemirror_mode": {
    "name": "ipython",
    "version": 3
   },
   "file_extension": ".py",
   "mimetype": "text/x-python",
   "name": "python",
   "nbconvert_exporter": "python",
   "pygments_lexer": "ipython3",
   "version": "3.9.13"
  }
 },
 "nbformat": 4,
 "nbformat_minor": 5
}
