{
 "cells": [
  {
   "cell_type": "markdown",
   "id": "dbd15e74",
   "metadata": {},
   "source": [
    "### Using the Naive method"
   ]
  },
  {
   "cell_type": "code",
   "execution_count": 16,
   "id": "54d529bd",
   "metadata": {},
   "outputs": [],
   "source": [
    "def gcd_bruteforce(m, n):\n",
    "    if (m <= 0 or n <= 0):\n",
    "        return -1\n",
    "    factors_of_m = []\n",
    "    factors_of_n = []\n",
    "    common_factors = []\n",
    "    \n",
    "    for i in range(1, m+1):\n",
    "        if (m%i)==0:\n",
    "            factors_of_m.append(i)\n",
    "    \n",
    "    for j in range(1, n+1):\n",
    "        if (n%j)==0:\n",
    "            factors_of_n.append(j)\n",
    "            \n",
    "    for f in factors_of_m:\n",
    "        if f in factors_of_n:\n",
    "            common_factors.append(f)\n",
    "    \n",
    "    return common_factors[-1]"
   ]
  },
  {
   "cell_type": "code",
   "execution_count": 19,
   "id": "7fb0b7b7",
   "metadata": {},
   "outputs": [
    {
     "name": "stdout",
     "output_type": "stream",
     "text": [
      "2\n",
      "10\n"
     ]
    }
   ],
   "source": [
    "print(gcd_bruteforce(10, 12))\n",
    "print(gcd_bruteforce(20, 10))"
   ]
  },
  {
   "cell_type": "markdown",
   "id": "9e57ba54",
   "metadata": {},
   "source": [
    "### Optimized"
   ]
  },
  {
   "cell_type": "code",
   "execution_count": 26,
   "id": "38931b3a",
   "metadata": {},
   "outputs": [],
   "source": [
    "def gcd_optimized(m, n):\n",
    "    if (m <= 0 or n <= 0):\n",
    "        return -1\n",
    "    i = min(m,n)\n",
    "    while i >= 1:\n",
    "        if (m%i==0 and n%i==0):\n",
    "            return i\n",
    "        else:\n",
    "            i = i -1"
   ]
  },
  {
   "cell_type": "code",
   "execution_count": 27,
   "id": "ab1816ee",
   "metadata": {},
   "outputs": [
    {
     "name": "stdout",
     "output_type": "stream",
     "text": [
      "2\n",
      "10\n"
     ]
    }
   ],
   "source": [
    "print(gcd_optimized(10, 12))\n",
    "print(gcd_optimized(20, 10))"
   ]
  },
  {
   "cell_type": "markdown",
   "id": "3acc2611",
   "metadata": {},
   "source": [
    "### Getting to Euclid"
   ]
  },
  {
   "cell_type": "markdown",
   "id": "44de2ec1",
   "metadata": {},
   "source": [
    "##### Theory\n",
    "\n",
    "Suppose d divides both m and n, and m>n\n",
    "\n",
    "then m = ad and n = bd\n",
    "\n",
    "So m - n = ad - bd = (a-b)d\n",
    "\n",
    "d divides m - n as well\n",
    "\n",
    "So gcd(m , n) = gcd(n, m-n)"
   ]
  },
  {
   "cell_type": "markdown",
   "id": "bf4e7d20",
   "metadata": {},
   "source": [
    "##### Algorithm\n",
    "\n",
    "Consider gcd(m, n) where m > n\n",
    "\n",
    "if n divides m, return n\n",
    "\n",
    "Otherwise compute gcd(n, m-n) and return the value"
   ]
  },
  {
   "cell_type": "code",
   "execution_count": 34,
   "id": "f5de97cb",
   "metadata": {},
   "outputs": [],
   "source": [
    "def gcd_euclid_eq(m, n):\n",
    "    # Boundary condition check\n",
    "    if (m <= 0 or n <=0):\n",
    "        return -1\n",
    "    \n",
    "    # Ensure m > n\n",
    "    if m < n:\n",
    "        m, n = n, m\n",
    "    \n",
    "    # Compute GCD\n",
    "    if (m%n) ==0:\n",
    "        return n\n",
    "    else:\n",
    "        diff = m-n\n",
    "        # recursive call\n",
    "        return gcd_euclid(n, diff)"
   ]
  },
  {
   "cell_type": "code",
   "execution_count": 35,
   "id": "e07f875f",
   "metadata": {},
   "outputs": [
    {
     "name": "stdout",
     "output_type": "stream",
     "text": [
      "2\n",
      "10\n"
     ]
    }
   ],
   "source": [
    "print(gcd_euclid_eq(10, 12))\n",
    "print(gcd_euclid_eq(20, 10))"
   ]
  },
  {
   "cell_type": "markdown",
   "id": "a9216d33",
   "metadata": {},
   "source": [
    "### Euclid Algorithm for GCD"
   ]
  },
  {
   "cell_type": "markdown",
   "id": "b2ba07c7",
   "metadata": {},
   "source": [
    "##### Theory\n",
    "\n",
    "Suppose n doesn't divide m\n",
    "\n",
    "Then m = qn + r where q is the quotient, r is the reminder when we divide m by n\n",
    "\n",
    "Assume d divides both m and n\n",
    "\n",
    "Then m = ad, n = bd\n",
    "\n",
    "Therefore m = qn + r => ad = q(bd) + r\n",
    "\n",
    "It follows that r = cd, so d divides r as well"
   ]
  },
  {
   "cell_type": "markdown",
   "id": "34030191",
   "metadata": {},
   "source": [
    "##### Algorithm\n",
    "\n",
    "Consider gcd(m, n) with m > n\n",
    "\n",
    "if n divides m, return n\n",
    "\n",
    "otherwise, let r = m%n\n",
    "\n",
    "return gcd(n, r)"
   ]
  },
  {
   "cell_type": "code",
   "execution_count": 38,
   "id": "4eba172b",
   "metadata": {},
   "outputs": [],
   "source": [
    "def gcd_euclid(m, n):\n",
    "    if (m<=0 or n<=0):\n",
    "        return -1\n",
    "    \n",
    "    if m < n:\n",
    "        m, n = n, m\n",
    "        \n",
    "    if m%n==0:\n",
    "        return n\n",
    "    else:\n",
    "        return gcd_euclid(n, m%n)"
   ]
  },
  {
   "cell_type": "code",
   "execution_count": 39,
   "id": "3875ba59",
   "metadata": {},
   "outputs": [
    {
     "name": "stdout",
     "output_type": "stream",
     "text": [
      "2\n",
      "10\n"
     ]
    }
   ],
   "source": [
    "print(gcd_euclid(10, 12))\n",
    "print(gcd_euclid(20, 10))"
   ]
  },
  {
   "cell_type": "code",
   "execution_count": 40,
   "id": "3980e740",
   "metadata": {},
   "outputs": [],
   "source": [
    "def gcd_euclid_while(m, n):\n",
    "    if (m<=0 or n<=0):\n",
    "        return -1\n",
    "    \n",
    "    if m < n:\n",
    "        m, n = n, m\n",
    "    \n",
    "    while (m%n != 0):\n",
    "        m, n = n, m%n\n",
    "    return(n)"
   ]
  },
  {
   "cell_type": "code",
   "execution_count": 41,
   "id": "8df72a6c",
   "metadata": {},
   "outputs": [
    {
     "name": "stdout",
     "output_type": "stream",
     "text": [
      "2\n",
      "10\n"
     ]
    }
   ],
   "source": [
    "print(gcd_euclid_while(10, 12))\n",
    "print(gcd_euclid_while(20, 10))"
   ]
  },
  {
   "cell_type": "markdown",
   "id": "42c8c136",
   "metadata": {},
   "source": [
    "##### List Comprehension"
   ]
  },
  {
   "cell_type": "code",
   "execution_count": 3,
   "id": "e80b0e03",
   "metadata": {},
   "outputs": [
    {
     "data": {
      "text/plain": [
       "[0, 4, 16, 36, 64]"
      ]
     },
     "execution_count": 3,
     "metadata": {},
     "output_type": "execute_result"
    }
   ],
   "source": [
    "[x**2 for x in range(10) if x%2==0]"
   ]
  },
  {
   "cell_type": "code",
   "execution_count": 9,
   "id": "8168f7bb",
   "metadata": {},
   "outputs": [
    {
     "data": {
      "text/plain": [
       "[(3, 4, 5),\n",
       " (4, 3, 5),\n",
       " (5, 12, 13),\n",
       " (6, 8, 10),\n",
       " (8, 6, 10),\n",
       " (8, 15, 17),\n",
       " (9, 12, 15),\n",
       " (12, 5, 13),\n",
       " (12, 9, 15),\n",
       " (15, 8, 17)]"
      ]
     },
     "execution_count": 9,
     "metadata": {},
     "output_type": "execute_result"
    }
   ],
   "source": [
    "[(x, y, z) for x in range(20) for y in range(20) for z in range(20) if x**2+y**2==z**2 and x!=0 and y!=0 and z!=0]"
   ]
  },
  {
   "cell_type": "code",
   "execution_count": 17,
   "id": "cb57a64d",
   "metadata": {},
   "outputs": [
    {
     "data": {
      "text/plain": [
       "[(3, 4, 5), (5, 12, 13), (6, 8, 10), (8, 15, 17), (9, 12, 15)]"
      ]
     },
     "execution_count": 17,
     "metadata": {},
     "output_type": "execute_result"
    }
   ],
   "source": [
    "# (3, 4, 5) and (4, 3, 5) are duplicates\n",
    "[(x, y, z) for x in range(20) for y in range(x, 20) for z in range(y, 20) if ((x**2+y**2)==z**2 and x!=0 and y!=0 and z!=0)]"
   ]
  },
  {
   "cell_type": "code",
   "execution_count": 20,
   "id": "6e671af2",
   "metadata": {},
   "outputs": [
    {
     "data": {
      "text/plain": [
       "[[0, 0, 0], [0, 0, 0], [0, 0, 0], [0, 0, 0]]"
      ]
     },
     "execution_count": 20,
     "metadata": {},
     "output_type": "execute_result"
    }
   ],
   "source": [
    "[[0 for i in range(3)] for j in range(4)]"
   ]
  },
  {
   "cell_type": "code",
   "execution_count": 21,
   "id": "fbb00520",
   "metadata": {},
   "outputs": [],
   "source": [
    "import numpy as np"
   ]
  },
  {
   "cell_type": "code",
   "execution_count": 24,
   "id": "ec08ce6d",
   "metadata": {},
   "outputs": [
    {
     "data": {
      "text/plain": [
       "[0.0, 1.0, 1.4142135623730951, 1.7320508075688772, 2.0]"
      ]
     },
     "execution_count": 24,
     "metadata": {},
     "output_type": "execute_result"
    }
   ],
   "source": [
    "list(map(np.sqrt, range(5)))"
   ]
  },
  {
   "cell_type": "code",
   "execution_count": 29,
   "id": "9cadc94c",
   "metadata": {},
   "outputs": [
    {
     "data": {
      "text/plain": [
       "[0, 2, 4]"
      ]
     },
     "execution_count": 29,
     "metadata": {},
     "output_type": "execute_result"
    }
   ],
   "source": [
    "list(filter(lambda x: x%2==0 , range(5)))"
   ]
  },
  {
   "cell_type": "code",
   "execution_count": 31,
   "id": "5fc6b40d",
   "metadata": {},
   "outputs": [
    {
     "data": {
      "text/plain": [
       "[0.0, 1.4142135623730951, 2.0]"
      ]
     },
     "execution_count": 31,
     "metadata": {},
     "output_type": "execute_result"
    }
   ],
   "source": [
    "list(map(np.sqrt, filter(lambda x: x%2==0 , range(5))))"
   ]
  },
  {
   "cell_type": "code",
   "execution_count": 33,
   "id": "0c4e95f7",
   "metadata": {},
   "outputs": [
    {
     "data": {
      "text/plain": [
       "[('a', 0, 10), ('b', 1, 11), ('c', 2, 12)]"
      ]
     },
     "execution_count": 33,
     "metadata": {},
     "output_type": "execute_result"
    }
   ],
   "source": [
    "list(zip('abcdefg', range(3), range(10, 20)))"
   ]
  },
  {
   "cell_type": "code",
   "execution_count": 35,
   "id": "4ca82213",
   "metadata": {},
   "outputs": [
    {
     "name": "stdout",
     "output_type": "stream",
     "text": [
      "Please enter a number: er\n",
      "Not a number, please enter again: \n",
      "Please enter a number: dfs\n",
      "Not a number, please enter again: \n",
      "Please enter a number: 4\n"
     ]
    }
   ],
   "source": [
    "while(True):\n",
    "    try:\n",
    "        user_input = input('Please enter a number: ')\n",
    "        user_num = int(user_input)\n",
    "    except ValueError:\n",
    "        print('Not a number, please enter again: ')\n",
    "    else:\n",
    "        break"
   ]
  },
  {
   "cell_type": "code",
   "execution_count": null,
   "id": "521373f4",
   "metadata": {},
   "outputs": [],
   "source": []
  }
 ],
 "metadata": {
  "kernelspec": {
   "display_name": "Python 3",
   "language": "python",
   "name": "python3"
  },
  "language_info": {
   "codemirror_mode": {
    "name": "ipython",
    "version": 3
   },
   "file_extension": ".py",
   "mimetype": "text/x-python",
   "name": "python",
   "nbconvert_exporter": "python",
   "pygments_lexer": "ipython3",
   "version": "3.8.8"
  }
 },
 "nbformat": 4,
 "nbformat_minor": 5
}
