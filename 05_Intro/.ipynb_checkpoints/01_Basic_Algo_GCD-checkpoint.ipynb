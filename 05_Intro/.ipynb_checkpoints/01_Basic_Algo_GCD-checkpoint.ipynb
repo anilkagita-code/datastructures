{
 "cells": [
  {
   "cell_type": "markdown",
   "id": "db1f2204",
   "metadata": {},
   "source": [
    "### Using the Naive method"
   ]
  },
  {
   "cell_type": "code",
   "execution_count": 16,
   "id": "dbcfb46b",
   "metadata": {},
   "outputs": [],
   "source": [
    "def gcd_bruteforce(m, n):\n",
    "    if (m <= 0 or n <= 0):\n",
    "        return -1\n",
    "    factors_of_m = []\n",
    "    factors_of_n = []\n",
    "    common_factors = []\n",
    "    \n",
    "    for i in range(1, m+1):\n",
    "        if (m%i)==0:\n",
    "            factors_of_m.append(i)\n",
    "    \n",
    "    for j in range(1, n+1):\n",
    "        if (n%j)==0:\n",
    "            factors_of_n.append(j)\n",
    "            \n",
    "    for f in factors_of_m:\n",
    "        if f in factors_of_n:\n",
    "            common_factors.append(f)\n",
    "    \n",
    "    return common_factors[-1]"
   ]
  },
  {
   "cell_type": "code",
   "execution_count": 19,
   "id": "fc997a68",
   "metadata": {},
   "outputs": [
    {
     "name": "stdout",
     "output_type": "stream",
     "text": [
      "2\n",
      "10\n"
     ]
    }
   ],
   "source": [
    "print(gcd_bruteforce(10, 12))\n",
    "print(gcd_bruteforce(20, 10))"
   ]
  },
  {
   "cell_type": "markdown",
   "id": "2a46e2f9",
   "metadata": {},
   "source": [
    "### Optimized"
   ]
  },
  {
   "cell_type": "code",
   "execution_count": 26,
   "id": "2b69cc36",
   "metadata": {},
   "outputs": [],
   "source": [
    "def gcd_optimized(m, n):\n",
    "    if (m <= 0 or n <= 0):\n",
    "        return -1\n",
    "    i = min(m,n)\n",
    "    while i >= 1:\n",
    "        if (m%i==0 and n%i==0):\n",
    "            return i\n",
    "        else:\n",
    "            i = i -1"
   ]
  },
  {
   "cell_type": "code",
   "execution_count": 27,
   "id": "444860cc",
   "metadata": {},
   "outputs": [
    {
     "name": "stdout",
     "output_type": "stream",
     "text": [
      "2\n",
      "10\n"
     ]
    }
   ],
   "source": [
    "print(gcd_optimized(10, 12))\n",
    "print(gcd_optimized(20, 10))"
   ]
  },
  {
   "cell_type": "markdown",
   "id": "c17f7b9a",
   "metadata": {},
   "source": [
    "### Euclid"
   ]
  },
  {
   "cell_type": "markdown",
   "id": "c8d6333e",
   "metadata": {},
   "source": [
    "##### Theory\n",
    "\n",
    "Suppose d divides both m and n, and m>n\n",
    "\n",
    "then m = ad and n = bd\n",
    "\n",
    "So m - n = ad - bd = (a-b)d\n",
    "\n",
    "d divides m - n as well\n",
    "\n",
    "So gcd(m , n) = gcd(n, m-n)"
   ]
  },
  {
   "cell_type": "markdown",
   "id": "4604ea64",
   "metadata": {},
   "source": [
    "##### Algorithm\n",
    "\n",
    "Consider gcd(m, n) where m > n\n",
    "\n",
    "if n divides m, return n\n",
    "\n",
    "Otherwise compute gcd(n, m-n) and return the value"
   ]
  },
  {
   "cell_type": "code",
   "execution_count": 30,
   "id": "ea54742b",
   "metadata": {},
   "outputs": [],
   "source": [
    "def gcd_euclid(m, n):\n",
    "    if (m <= 0 or n <=0):\n",
    "        return -1\n",
    "    if m < n:\n",
    "        m, n = n, m\n",
    "    \n",
    "    if (m%n) ==0:\n",
    "        return n\n",
    "    else:\n",
    "        diff = m-n\n",
    "        return gcd_euclid(n, diff)"
   ]
  },
  {
   "cell_type": "code",
   "execution_count": 31,
   "id": "2796808f",
   "metadata": {},
   "outputs": [
    {
     "name": "stdout",
     "output_type": "stream",
     "text": [
      "2\n",
      "10\n"
     ]
    }
   ],
   "source": [
    "print(gcd_euclid(10, 12))\n",
    "print(gcd_euclid(20, 10))"
   ]
  },
  {
   "cell_type": "code",
   "execution_count": null,
   "id": "397c7122",
   "metadata": {},
   "outputs": [],
   "source": []
  }
 ],
 "metadata": {
  "kernelspec": {
   "display_name": "Python 3",
   "language": "python",
   "name": "python3"
  },
  "language_info": {
   "codemirror_mode": {
    "name": "ipython",
    "version": 3
   },
   "file_extension": ".py",
   "mimetype": "text/x-python",
   "name": "python",
   "nbconvert_exporter": "python",
   "pygments_lexer": "ipython3",
   "version": "3.8.8"
  }
 },
 "nbformat": 4,
 "nbformat_minor": 5
}
