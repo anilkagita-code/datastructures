{
 "cells": [
  {
   "cell_type": "code",
   "execution_count": 1,
   "id": "98183020",
   "metadata": {},
   "outputs": [],
   "source": [
    "def search(l, v):\n",
    "    for x in l:\n",
    "        if x == v:\n",
    "            return(True)\n",
    "    return(False)"
   ]
  },
  {
   "cell_type": "code",
   "execution_count": 3,
   "id": "58821c78",
   "metadata": {},
   "outputs": [
    {
     "name": "stdout",
     "output_type": "stream",
     "text": [
      "True\n"
     ]
    }
   ],
   "source": [
    "list1 = list(range(100))\n",
    "find_val = 90\n",
    "\n",
    "print(search(list1, find_val))"
   ]
  },
  {
   "cell_type": "markdown",
   "id": "211e226c",
   "metadata": {},
   "source": [
    "##### Takes n+1 operations to compute. O(n)"
   ]
  },
  {
   "cell_type": "code",
   "execution_count": null,
   "id": "1dd4387d",
   "metadata": {},
   "outputs": [],
   "source": []
  }
 ],
 "metadata": {
  "kernelspec": {
   "display_name": "Python 3",
   "language": "python",
   "name": "python3"
  },
  "language_info": {
   "codemirror_mode": {
    "name": "ipython",
    "version": 3
   },
   "file_extension": ".py",
   "mimetype": "text/x-python",
   "name": "python",
   "nbconvert_exporter": "python",
   "pygments_lexer": "ipython3",
   "version": "3.8.8"
  }
 },
 "nbformat": 4,
 "nbformat_minor": 5
}
