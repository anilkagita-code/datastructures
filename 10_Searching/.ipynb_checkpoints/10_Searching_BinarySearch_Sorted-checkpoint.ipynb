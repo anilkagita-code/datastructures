{
 "cells": [
  {
   "cell_type": "markdown",
   "id": "e06ab204",
   "metadata": {},
   "source": [
    "## Binary Search"
   ]
  },
  {
   "cell_type": "markdown",
   "id": "bd124ca4",
   "metadata": {},
   "source": [
    "### Algorithm"
   ]
  },
  {
   "cell_type": "markdown",
   "id": "ac604395",
   "metadata": {},
   "source": [
    "Assumption: Seq is sorted\n",
    "\n",
    "Compare v with midpoint of seq\n",
    "\n",
    "if midpoint is v, the value is found\n",
    "\n",
    "if v < midpoint, search left half of seq\n",
    "\n",
    "if v > midpoint, search right half of seq"
   ]
  },
  {
   "cell_type": "code",
   "execution_count": 31,
   "id": "80642fcd",
   "metadata": {},
   "outputs": [],
   "source": [
    "def bsearch(seq, val, left_idx, right_idx):\n",
    "    print('seq:', seq, '\\nval, left, right idx', val, left_idx, right_idx)\n",
    "    # Boundary condition\n",
    "    if (right_idx - left_idx) == 0:\n",
    "        return -1 # Not found\n",
    "    \n",
    "    mid_idx = (left_idx+right_idx)//2\n",
    "    if seq[mid_idx] == val:\n",
    "        return mid_idx\n",
    "    if (val < seq[mid_idx]):\n",
    "        return bsearch(seq, val, left_idx, mid_idx)\n",
    "    else:\n",
    "        return bsearch(seq, val, mid_idx+1, right_idx)"
   ]
  },
  {
   "cell_type": "code",
   "execution_count": 35,
   "id": "9d97adf3",
   "metadata": {},
   "outputs": [],
   "source": [
    "import numpy as np"
   ]
  },
  {
   "cell_type": "code",
   "execution_count": 37,
   "id": "2c71f885",
   "metadata": {},
   "outputs": [
    {
     "name": "stdout",
     "output_type": "stream",
     "text": [
      "seq: [ 0  5 10 15 20 25 30 35 40 45 50 55 60 65 70 75 80 85 90 95] \n",
      "val, left, right idx 23 0 20\n",
      "seq: [ 0  5 10 15 20 25 30 35 40 45 50 55 60 65 70 75 80 85 90 95] \n",
      "val, left, right idx 23 0 10\n",
      "seq: [ 0  5 10 15 20 25 30 35 40 45 50 55 60 65 70 75 80 85 90 95] \n",
      "val, left, right idx 23 0 5\n",
      "seq: [ 0  5 10 15 20 25 30 35 40 45 50 55 60 65 70 75 80 85 90 95] \n",
      "val, left, right idx 23 3 5\n",
      "seq: [ 0  5 10 15 20 25 30 35 40 45 50 55 60 65 70 75 80 85 90 95] \n",
      "val, left, right idx 23 5 5\n",
      "-1\n"
     ]
    }
   ],
   "source": [
    "list1 = np.arange(0, 100, 5)\n",
    "find_val = 23\n",
    "\n",
    "print(bsearch(list1, find_val, 0, len(list1)))"
   ]
  },
  {
   "cell_type": "markdown",
   "id": "cbb573fd",
   "metadata": {},
   "source": [
    "Each step halves the interval to search\n",
    "\n",
    "for an interval of size 0 the answer is immdiate\n",
    "\n",
    "T(n): time to search in an sequence of size n\n",
    "\n",
    "T(0) = 1\n",
    "\n",
    "T(n) = 1 + T(n/2) = 1 + 1 + T(n/4) = 1 + 1 + 1 + T(n/2**3) = 1 + 1... + T(n/2**k)\n",
    "\n",
    "what is the k value:\n",
    "\n",
    "n = 2**k ==> k = log(n) base 2\n",
    "\n",
    "#####  O(log n)"
   ]
  },
  {
   "cell_type": "code",
   "execution_count": null,
   "id": "19e8fe4a",
   "metadata": {},
   "outputs": [],
   "source": []
  }
 ],
 "metadata": {
  "kernelspec": {
   "display_name": "Python 3",
   "language": "python",
   "name": "python3"
  },
  "language_info": {
   "codemirror_mode": {
    "name": "ipython",
    "version": 3
   },
   "file_extension": ".py",
   "mimetype": "text/x-python",
   "name": "python",
   "nbconvert_exporter": "python",
   "pygments_lexer": "ipython3",
   "version": "3.8.8"
  }
 },
 "nbformat": 4,
 "nbformat_minor": 5
}
